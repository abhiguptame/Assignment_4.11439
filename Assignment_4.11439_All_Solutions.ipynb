{
 "cells": [
  {
   "cell_type": "markdown",
   "metadata": {},
   "source": [
    "# Task 1:"
   ]
  },
  {
   "cell_type": "markdown",
   "metadata": {},
   "source": [
    "### 1.1 Write a function to find moving average in an array over a window:\n",
    "<p>Test it over [3, 5, 7, 2, 8, 10, 11, 65, 72, 81, 99, 100, 150] and window of 3. </p> "
   ]
  },
  {
   "cell_type": "code",
   "execution_count": 1,
   "metadata": {},
   "outputs": [
    {
     "name": "stdout",
     "output_type": "stream",
     "text": [
      "[5.0, 4.666666666666667, 5.666666666666667, 6.666666666666667, 9.666666666666666, 28.666666666666668, 49.333333333333336, 72.66666666666667, 84.0, 93.33333333333333, 116.33333333333333]\n"
     ]
    }
   ],
   "source": [
    "'''\n",
    "This program implements a function which finds moving average in an array over a window.\n",
    "'''\n",
    "import numpy as np\n",
    "\n",
    "def calculate_moving_average(sequence, k): #Defining calculate_moving_average function which takes two arguments (a list and integer) and returns moving average in an array over a window. \n",
    "    array = np.array(sequence)\n",
    "    result_list = []    \n",
    "    for i in range(len(array)-k+1):\n",
    "        temp_list = []\n",
    "        for itr in range(i,i+k):\n",
    "            temp_list.append(array[itr])\n",
    "        moving_object = sum(temp_list)/k\n",
    "        result_list.append(moving_object)\n",
    "    return result_list\n",
    "\n",
    "test_list = [3, 5, 7, 2, 8, 10, 11, 65, 72, 81, 99, 100, 150] #Given test list\n",
    "\n",
    "print(calculate_moving_average(test_list,3))\n"
   ]
  },
  {
   "cell_type": "markdown",
   "metadata": {},
   "source": [
    "# Task 2:"
   ]
  },
  {
   "cell_type": "markdown",
   "metadata": {},
   "source": [
    "### 1. How-to-count-distance-to-the-previous-zero For each value, count the difference back to the previous zero (or the start of the Series,whichever is closer) create a new column 'Y' Consider a DataFrame df where there is an integer column 'X'\n",
    "<p>\n",
    "import pandas as pd<br/>\n",
    "df = pd.DataFrame({'X': [7, 2, 0, 3, 4, 2, 5, 0, 3, 4]})</p>"
   ]
  },
  {
   "cell_type": "code",
   "execution_count": 2,
   "metadata": {},
   "outputs": [
    {
     "name": "stdout",
     "output_type": "stream",
     "text": [
      "   X  Y\n",
      "0  7  1\n",
      "1  2  2\n",
      "2  0  0\n",
      "3  3  1\n",
      "4  4  2\n",
      "5  2  3\n",
      "6  5  4\n",
      "7  0  0\n",
      "8  3  1\n",
      "9  4  2\n"
     ]
    }
   ],
   "source": [
    "'''\n",
    "This program creates a new column 'Y' which has values of distance from previous zero with respect to the values in column X, Considering given DataFrame df where there is an integer column 'X'.\n",
    "'''\n",
    "\n",
    "import pandas as pd\n",
    "df = pd.DataFrame({'X': [7, 2, 0, 3, 4, 2, 5, 0, 3, 4]})\n",
    "index_of_zero = np.r_[-1, (df['X'] == 0).nonzero()[0]] #Getting indices of zeros in 'X' column of the given dataframe\n",
    "index_of_x = np.arange(len(df)) #Getting indices of 'X' coulumn of the given dataframe\n",
    "df['Y'] = index_of_x - index_of_zero[np.searchsorted(index_of_zero - 1, index_of_x) - 1] #Calculating distance from previous zero with respect to the values in column X and assigning it to column Y\n",
    "print(df)"
   ]
  },
  {
   "cell_type": "markdown",
   "metadata": {},
   "source": [
    "### 2. Create a DatetimeIndex that contains each business day of 2015 and use it to index a Series of random numbers."
   ]
  },
  {
   "cell_type": "code",
   "execution_count": 3,
   "metadata": {},
   "outputs": [
    {
     "name": "stdout",
     "output_type": "stream",
     "text": [
      "2015-01-01    0.752587\n",
      "2015-01-02    0.250850\n",
      "2015-01-05    0.188198\n",
      "2015-01-06    0.560986\n",
      "2015-01-07    0.463842\n",
      "2015-01-08    0.502841\n",
      "2015-01-09    0.693915\n",
      "2015-01-12    0.941363\n",
      "2015-01-13    0.179418\n",
      "2015-01-14    0.402602\n",
      "2015-01-15    0.420480\n",
      "2015-01-16    0.644789\n",
      "2015-01-19    0.925037\n",
      "2015-01-20    0.189587\n",
      "2015-01-21    0.059126\n",
      "2015-01-22    0.558977\n",
      "2015-01-23    0.494940\n",
      "2015-01-26    0.130685\n",
      "2015-01-27    0.292540\n",
      "2015-01-28    0.503465\n",
      "2015-01-29    0.119953\n",
      "2015-01-30    0.012436\n",
      "2015-02-02    0.359303\n",
      "2015-02-03    0.868472\n",
      "2015-02-04    0.691918\n",
      "2015-02-05    0.484413\n",
      "2015-02-06    0.562723\n",
      "2015-02-09    0.011890\n",
      "2015-02-10    0.352307\n",
      "2015-02-11    0.664701\n",
      "                ...   \n",
      "2015-11-20    0.250142\n",
      "2015-11-23    0.634807\n",
      "2015-11-24    0.360115\n",
      "2015-11-25    0.486516\n",
      "2015-11-26    0.309962\n",
      "2015-11-27    0.481817\n",
      "2015-11-30    0.430876\n",
      "2015-12-01    0.885425\n",
      "2015-12-02    0.837425\n",
      "2015-12-03    0.664096\n",
      "2015-12-04    0.723631\n",
      "2015-12-07    0.780571\n",
      "2015-12-08    0.240937\n",
      "2015-12-09    0.357606\n",
      "2015-12-10    0.673687\n",
      "2015-12-11    0.917437\n",
      "2015-12-14    0.140559\n",
      "2015-12-15    0.345531\n",
      "2015-12-16    0.693354\n",
      "2015-12-17    0.276879\n",
      "2015-12-18    0.975910\n",
      "2015-12-21    0.374793\n",
      "2015-12-22    0.404069\n",
      "2015-12-23    0.260258\n",
      "2015-12-24    0.085853\n",
      "2015-12-25    0.717595\n",
      "2015-12-28    0.660349\n",
      "2015-12-29    0.888803\n",
      "2015-12-30    0.207487\n",
      "2015-12-31    0.324726\n",
      "Freq: B, Length: 261, dtype: float64\n"
     ]
    }
   ],
   "source": [
    "'''\n",
    "This program creates a DatetimeIndex that contains each business day of 2015 and uses it to index a Series (s) of random numbers.\n",
    "'''\n",
    "import numpy as np\n",
    "import pandas as pd\n",
    "date_time_index = pd.date_range(start='2015-01-01', end='2015-12-31', freq='B') #Creating the date time index for year 2015 i.e. from 01 January, 2015 to 31 December, 2015\n",
    "s = pd.Series(np.random.rand(len(date_time_index)), index=date_time_index) #Creating a series 's' of random numbers with index as date_time_index\n",
    "print(s) #Printing the created series 's'"
   ]
  },
  {
   "cell_type": "markdown",
   "metadata": {},
   "source": [
    "### 3. Find the sum of the values in s for every Wednesday"
   ]
  },
  {
   "cell_type": "code",
   "execution_count": 4,
   "metadata": {},
   "outputs": [
    {
     "name": "stdout",
     "output_type": "stream",
     "text": [
      "26.56630170304941\n"
     ]
    }
   ],
   "source": [
    "'''\n",
    "This program finds the sum of the values in series 's' for every Wednesday\n",
    "'''\n",
    "sum_of_values_for_every_wednesday = s[date_time_index.weekday == 2].sum() #Calculating the sum of values in s for every Wednesday\n",
    "print(sum_of_values_for_every_wednesday) #Printing the sum"
   ]
  },
  {
   "cell_type": "markdown",
   "metadata": {},
   "source": [
    "### 4. Average for each calendar month"
   ]
  },
  {
   "cell_type": "code",
   "execution_count": 5,
   "metadata": {},
   "outputs": [
    {
     "name": "stdout",
     "output_type": "stream",
     "text": [
      "2015-01-31    0.422210\n",
      "2015-02-28    0.413384\n",
      "2015-03-31    0.544916\n",
      "2015-04-30    0.531173\n",
      "2015-05-31    0.553662\n",
      "2015-06-30    0.518162\n",
      "2015-07-31    0.493947\n",
      "2015-08-31    0.597690\n",
      "2015-09-30    0.567793\n",
      "2015-10-31    0.492404\n",
      "2015-11-30    0.555948\n",
      "2015-12-31    0.540738\n",
      "Freq: M, dtype: float64\n"
     ]
    }
   ],
   "source": [
    "'''\n",
    "This program finds the avarage of each calendar month in series 's'.\n",
    "'''\n",
    "average_for_each_calendar_month = s.resample('M').mean() #Calculating the avarage of each calender month in series 's'\n",
    "print(average_for_each_calendar_month) #Printing the average of values in each calender month in series 's'"
   ]
  },
  {
   "cell_type": "markdown",
   "metadata": {},
   "source": [
    "### 5. For each group of four consecutive calendar months in s, find the date on which the highest value occurred."
   ]
  },
  {
   "cell_type": "code",
   "execution_count": 21,
   "metadata": {},
   "outputs": [
    {
     "name": "stdout",
     "output_type": "stream",
     "text": [
      "2015-02-19 00:00:00\n",
      "2015-07-21 00:00:00\n",
      "2015-10-21 00:00:00\n"
     ]
    }
   ],
   "source": [
    "'''\n",
    "This program finds the date on which highest value occurred for each group of four consecutive calendar months in series 's'.\n",
    "'''\n",
    "print(s['2015-01-01':'2015-04-30'].idxmax()) #Printing the max value from January, 2015 to April, 2015\n",
    "print(s['2015-05-01':'2015-08-31'].idxmax()) #Printing the max value from May, 2015 to August, 2015\n",
    "print(s['2015-09-01':'2015-12-31'].idxmax()) #Printing the max value from September, 2015 to December, 2015"
   ]
  }
 ],
 "metadata": {
  "kernelspec": {
   "display_name": "Python 3",
   "language": "python",
   "name": "python3"
  },
  "language_info": {
   "codemirror_mode": {
    "name": "ipython",
    "version": 3
   },
   "file_extension": ".py",
   "mimetype": "text/x-python",
   "name": "python",
   "nbconvert_exporter": "python",
   "pygments_lexer": "ipython3",
   "version": "3.6.4"
  }
 },
 "nbformat": 4,
 "nbformat_minor": 2
}
